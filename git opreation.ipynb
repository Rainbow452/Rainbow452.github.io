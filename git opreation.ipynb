{
 "cells": [
  {
   "cell_type": "markdown",
   "id": "25f98cc2",
   "metadata": {},
   "source": [
    "#  git操作指令"
   ]
  },
  {
   "cell_type": "markdown",
   "id": "76cb2913",
   "metadata": {},
   "source": [
    "## 设置用户\n",
    "下载之后打开是这个样子的，第一件事设置用户。注意这个不是登录哦，是给你的电脑设置一个用户，等你上传的时候，告诉远程仓库是谁上传的而已。\n",
    "\n",
    "git config --global user.name \"Your Name\"（注意前边是“- -global”，有两个横线）\n",
    "git config --global user.email \"email@example.com\"\n"
   ]
  },
  {
   "cell_type": "markdown",
   "id": "54f81738",
   "metadata": {},
   "source": [
    "##   在你的本地仓库打开gitbash。\n",
    "$ git remote add + 名字 + 连接地址\n",
    "连接地址就是你刚才复制的那块。"
   ]
  },
  {
   "cell_type": "markdown",
   "id": "4a14365d",
   "metadata": {},
   "source": [
    "## 查看远程仓库\n",
    "git remote -v"
   ]
  },
  {
   "cell_type": "markdown",
   "id": "2e817fa9",
   "metadata": {},
   "source": [
    "##   文件上传\n",
    "git add 将修改的文件添加暂存区，也就是将要提交的文件的信息添加到索引库中。（看不懂没关系，现在来说这个不重要）。\n",
    "什么是修改的文件，你新建、更改、删除文件都是修改。\n",
    "\n",
    "git add有好多种。下边我介绍一下，看看就行，对现在来说记住最后一条就可以了：\n",
    "\n",
    "git add +文件名.文件类型 ，将某个文件加到缓存区 git add +文件名.文件类型 ... 文件\n",
    "             名.文件类型 ，将n个文件添加到缓存区\n",
    "git add xx文件夹/*.html，将xx文件夹下的所有的html文件添加到缓存区。\n",
    "git add *hhh ，将以hhh结尾的文件的所有修改添加到暂存区\n",
    "git add Hello* ，将所有以Hello开头的文件的修改添加到暂存区\n",
    "git add -u ，提交被修改(modified)和被删除(deleted)文件，不包括新文件(new)\n",
    "git add .，提交新文件(new)和被修改(modified)文件，不包括被删除(deleted)文件\n",
    "\n",
    "$\\color{#FF0000}{git add -A，提交所有变化。git add前几条都可以记不住，这个必须记住！！！}$\n"
   ]
  },
  {
   "cell_type": "markdown",
   "id": "7c20c428",
   "metadata": {},
   "source": [
    "$ git commit -m \"修改注释\"   \n",
    "$ git push -u 仓库名称 分支"
   ]
  },
  {
   "cell_type": "markdown",
   "id": "46269434",
   "metadata": {},
   "source": [
    "我们第一次推送master分支时，加上 –u参数才会把本地的master分支和远程的master分支关联起来，就是告诉远程仓库的master分支，我的本地仓库和是对着你的哦，不是对着别的分支的哦。\n",
    "只有第一次推的时候需要加上-u，以后的推送只输入：\n",
    "\n",
    "$ git push 名称 分支"
   ]
  },
  {
   "cell_type": "code",
   "execution_count": null,
   "id": "81ac943c",
   "metadata": {},
   "outputs": [],
   "source": [
    "$ git push origin master -f 强制推送，\n",
    "\n",
    "$ git log"
   ]
  }
 ],
 "metadata": {
  "kernelspec": {
   "display_name": "Python 3",
   "language": "python",
   "name": "python3"
  },
  "language_info": {
   "codemirror_mode": {
    "name": "ipython",
    "version": 3
   },
   "file_extension": ".py",
   "mimetype": "text/x-python",
   "name": "python",
   "nbconvert_exporter": "python",
   "pygments_lexer": "ipython3",
   "version": "3.8.8"
  }
 },
 "nbformat": 4,
 "nbformat_minor": 5
}
