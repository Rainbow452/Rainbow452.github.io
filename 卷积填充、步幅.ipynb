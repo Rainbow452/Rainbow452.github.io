{
 "cells": [
  {
   "cell_type": "code",
   "execution_count": null,
   "id": "72a70d59",
   "metadata": {},
   "outputs": [],
   "source": [
    "# import torch\n",
    "from torch import nn\n",
    "con2d = nn.Conv2d(1, 1, kernel_size=3, padding=1， stride=2) # 输入，输出通道数，核大小，填充, 步幅\n"
   ]
  },
  {
   "cell_type": "code",
   "execution_count": 97,
   "id": "7f329cfc",
   "metadata": {},
   "outputs": [
    {
     "name": "stdout",
     "output_type": "stream",
     "text": [
      "tensor([[[[-0.0208,  0.2278,  0.4205,  0.2700,  0.2746],\n",
      "          [-0.1377,  0.0333,  0.1628,  0.2133,  0.4670],\n",
      "          [-0.0938,  0.3088,  0.1583, -0.2676,  0.0294],\n",
      "          [-0.1818,  0.0714,  0.0754,  0.2157,  0.2495],\n",
      "          [-0.1473,  0.0548, -0.1196,  0.1448,  0.2590]]]],\n",
      "       grad_fn=<MkldnnConvolutionBackward>)\n",
      "tensor([], size=(0, 1, 5, 5), grad_fn=<SliceBackward>)\n",
      "torch.Size([5, 5])\n"
     ]
    }
   ],
   "source": [
    "def comp_conv2d(conv2d, X): \n",
    "    X = X.reshape((1, 1) + X.shape ) #  加到四维（1， 1， x, y）\n",
    "    Y = conv2d(X)\n",
    "    print(Y)\n",
    "    print(Y[2:])\n",
    "    return Y.reshape(Y.shape[2:])\n",
    "\n",
    "conv2d = nn.Conv2d(1, 1, kernel_size=3, padding=1, stride = 2)\n",
    "X = torch.rand(size=(10, 10))\n",
    "print(comp_conv2d(conv2d, X).shape)\n"
   ]
  },
  {
   "cell_type": "code",
   "execution_count": null,
   "id": "46f340f7",
   "metadata": {},
   "outputs": [],
   "source": []
  },
  {
   "cell_type": "code",
   "execution_count": null,
   "id": "895274cd",
   "metadata": {},
   "outputs": [],
   "source": []
  },
  {
   "cell_type": "code",
   "execution_count": null,
   "id": "415225ee",
   "metadata": {},
   "outputs": [],
   "source": []
  }
 ],
 "metadata": {
  "kernelspec": {
   "display_name": "Python 3",
   "language": "python",
   "name": "python3"
  },
  "language_info": {
   "codemirror_mode": {
    "name": "ipython",
    "version": 3
   },
   "file_extension": ".py",
   "mimetype": "text/x-python",
   "name": "python",
   "nbconvert_exporter": "python",
   "pygments_lexer": "ipython3",
   "version": "3.8.8"
  }
 },
 "nbformat": 4,
 "nbformat_minor": 5
}
