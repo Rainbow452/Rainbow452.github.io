{
 "cells": [
  {
   "cell_type": "code",
   "execution_count": 2,
   "id": "ad2cc2c7",
   "metadata": {},
   "outputs": [],
   "source": [
    "import torch\n",
    "from torch import nn \n",
    "from d2l import torch as d2l\n",
    "\n",
    "net =  nn.Sequential(\n",
    "    nn.Conv2d(1, 96, kernel_size=11, stride=4, padding=1), nn.ReLU(),\n",
    "    nn.MaxPool2d(kernel_size=3, stride=2),\n",
    "    nn.Conv2d(96, 256, kernel_size=5, padding=2), nn.ReLU(),\n",
    "    nn.MaxPool2d(kernel_size=3, stride=2),\n",
    "    nn.Conv2d(256, 384, kernel_size=3, padding=1),\n",
    "    nn.Conv2d(384, 384, kernel_size=3, padding=1),\n",
    "    nn.Conv2d(384, 256, kernel_size=3, padding=1),\n",
    "    nn.MaxPool2d(kernel_size=3, stride=2),\n",
    "    nn.Flatten(),\n",
    "    \n",
    "    nn.Linear(6400, 4096),nn.ReLU(),nn.Dropout(p=0.5),\n",
    "    nn.Linear(4096, 4096),nn.ReLU(),nn.Dropout(p=0.5),\n",
    "    nn.Linear(4096, 10) )"
   ]
  },
  {
   "cell_type": "code",
   "execution_count": 3,
   "id": "1a0ef037",
   "metadata": {},
   "outputs": [
    {
     "name": "stdout",
     "output_type": "stream",
     "text": [
      "Conv2d out shape: \t torch.Size([1, 96, 54, 54])\n",
      "ReLU out shape: \t torch.Size([1, 96, 54, 54])\n",
      "MaxPool2d out shape: \t torch.Size([1, 96, 26, 26])\n",
      "Conv2d out shape: \t torch.Size([1, 256, 26, 26])\n",
      "ReLU out shape: \t torch.Size([1, 256, 26, 26])\n",
      "MaxPool2d out shape: \t torch.Size([1, 256, 12, 12])\n",
      "Conv2d out shape: \t torch.Size([1, 384, 12, 12])\n",
      "Conv2d out shape: \t torch.Size([1, 384, 12, 12])\n",
      "Conv2d out shape: \t torch.Size([1, 256, 12, 12])\n",
      "MaxPool2d out shape: \t torch.Size([1, 256, 5, 5])\n",
      "Flatten out shape: \t torch.Size([1, 6400])\n",
      "Linear out shape: \t torch.Size([1, 4096])\n",
      "ReLU out shape: \t torch.Size([1, 4096])\n",
      "Dropout out shape: \t torch.Size([1, 4096])\n",
      "Linear out shape: \t torch.Size([1, 4096])\n",
      "ReLU out shape: \t torch.Size([1, 4096])\n",
      "Dropout out shape: \t torch.Size([1, 4096])\n",
      "Linear out shape: \t torch.Size([1, 10])\n"
     ]
    }
   ],
   "source": [
    "X = torch.randn(1, 1, 224, 224)\n",
    "for layer in net:\n",
    "    X = layer(X)\n",
    "    print(layer.__class__.__name__,'out shape: \\t',X.shape)"
   ]
  },
  {
   "cell_type": "code",
   "execution_count": 4,
   "id": "dc6b8d11",
   "metadata": {},
   "outputs": [
    {
     "ename": "NameError",
     "evalue": "name 'conv_arch' is not defined",
     "output_type": "error",
     "traceback": [
      "\u001b[1;31m---------------------------------------------------------------------------\u001b[0m",
      "\u001b[1;31mNameError\u001b[0m                                 Traceback (most recent call last)",
      "\u001b[1;32m<ipython-input-4-8a0c22445527>\u001b[0m in \u001b[0;36m<module>\u001b[1;34m\u001b[0m\n\u001b[0;32m      1\u001b[0m \u001b[0mratio\u001b[0m \u001b[1;33m=\u001b[0m \u001b[1;36m4\u001b[0m\u001b[1;33m\u001b[0m\u001b[1;33m\u001b[0m\u001b[0m\n\u001b[1;32m----> 2\u001b[1;33m \u001b[0msmall_conv_arch\u001b[0m \u001b[1;33m=\u001b[0m \u001b[1;33m[\u001b[0m\u001b[1;33m(\u001b[0m\u001b[0mpair\u001b[0m\u001b[1;33m[\u001b[0m\u001b[1;36m0\u001b[0m\u001b[1;33m]\u001b[0m\u001b[1;33m,\u001b[0m \u001b[0mpair\u001b[0m\u001b[1;33m[\u001b[0m\u001b[1;36m1\u001b[0m\u001b[1;33m]\u001b[0m \u001b[1;33m//\u001b[0m \u001b[0mratio\u001b[0m\u001b[1;33m)\u001b[0m \u001b[1;32mfor\u001b[0m \u001b[0mpair\u001b[0m \u001b[1;32min\u001b[0m \u001b[0mconv_arch\u001b[0m\u001b[1;33m]\u001b[0m\u001b[1;33m\u001b[0m\u001b[1;33m\u001b[0m\u001b[0m\n\u001b[0m\u001b[0;32m      3\u001b[0m \u001b[0mnet\u001b[0m \u001b[1;33m=\u001b[0m \u001b[0mvgg\u001b[0m\u001b[1;33m(\u001b[0m\u001b[0msmall_conv_arch\u001b[0m\u001b[1;33m)\u001b[0m\u001b[1;33m\u001b[0m\u001b[1;33m\u001b[0m\u001b[0m\n",
      "\u001b[1;31mNameError\u001b[0m: name 'conv_arch' is not defined"
     ]
    }
   ],
   "source": [
    "ratio = 4\n",
    "small_conv_arch = [(pair[0], pair[1] // ratio) for pair in conv_arch]\n",
    "net = vgg(small_conv_arch)"
   ]
  },
  {
   "cell_type": "code",
   "execution_count": null,
   "id": "c35f171d",
   "metadata": {},
   "outputs": [],
   "source": [
    "batch_size = 128\n",
    "train_iter, test_iter = d2l.load_data_fashion_mnist(batch_size=batch_size, resize=224)"
   ]
  },
  {
   "cell_type": "code",
   "execution_count": null,
   "id": "b934fb59",
   "metadata": {},
   "outputs": [],
   "source": [
    "lr, num_epochs = 0.01, 10\n",
    "d2l.train_ch6(net, train_iter, test_iter, num_epochs, lr, d2l.try_gpu())"
   ]
  },
  {
   "cell_type": "code",
   "execution_count": null,
   "id": "11680b8d",
   "metadata": {},
   "outputs": [],
   "source": []
  }
 ],
 "metadata": {
  "kernelspec": {
   "display_name": "Python 3",
   "language": "python",
   "name": "python3"
  },
  "language_info": {
   "codemirror_mode": {
    "name": "ipython",
    "version": 3
   },
   "file_extension": ".py",
   "mimetype": "text/x-python",
   "name": "python",
   "nbconvert_exporter": "python",
   "pygments_lexer": "ipython3",
   "version": "3.8.8"
  }
 },
 "nbformat": 4,
 "nbformat_minor": 5
}
